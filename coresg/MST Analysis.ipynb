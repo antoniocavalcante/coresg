{
 "cells": [
  {
   "cell_type": "markdown",
   "id": "a53bbbc0",
   "metadata": {},
   "source": [
    "# Notebook for MST Analysis"
   ]
  },
  {
   "cell_type": "code",
   "execution_count": 1,
   "id": "db9561d7",
   "metadata": {},
   "outputs": [],
   "source": [
    "#importing libraries\n",
    "import utils as u\n",
    "import numpy as np\n",
    "import pandas as pd\n",
    "import pynndescent\n",
    "from scipy.sparse.csgraph import connected_components\n",
    "import matplotlib.pyplot as plt"
   ]
  },
  {
   "cell_type": "code",
   "execution_count": 2,
   "id": "3f59f372",
   "metadata": {},
   "outputs": [],
   "source": [
    "#loading datasets\n",
    "dsname = \"Datasets/blobs_size_2000_centers_10_outliers_20.csv\"\n",
    "dataset = pd.read_csv(dsname, header=None).values\n",
    "#defining k\n",
    "k = 20\n",
    "mpts = k "
   ]
  },
  {
   "cell_type": "code",
   "execution_count": 3,
   "id": "8e67c758",
   "metadata": {},
   "outputs": [
    {
     "name": "stdout",
     "output_type": "stream",
     "text": [
      "Tue Sep  7 14:41:10 2021 NN descent for 11 iterations\n",
      "[LOW] \t 1  /  11\n",
      "[LOW] \t 2  /  11\n",
      "[LOW] \t 3  /  11\n",
      "[LOW] \t 4  /  11\n",
      "\tStopping threshold met -- exiting after 4 iterations\n"
     ]
    }
   ],
   "source": [
    "#Run pyNNDescent\n",
    "index = pynndescent.NNDescent(dataset, n_neighbors = k, tree_init = False, verbose=True)\n",
    "#Convert pyNNDescent to Igor's Structure\n",
    "knndescent = u.convert_pynndescent_output(index.neighbor_graph)\n",
    "#building knn + residual information\n",
    "knnRdescent = index.residual\n",
    "knnRdescent = [nn[1:]for nn in knnRdescent]\n",
    "#Calculate and build exact \n",
    "sorted_dist_m = u.get_sorted_dist_matrix(dataset)"
   ]
  },
  {
   "cell_type": "code",
   "execution_count": 4,
   "id": "2306f898",
   "metadata": {},
   "outputs": [],
   "source": [
    "#definition of method for MST analisys\n",
    "def mst_analysis(dataset, approx_knn, approx_knn_residual, sorted_distance_matrix, k=1, plot=True):\n",
    "    \n",
    " \n",
    "    #calculate the MSF of the kkn of the nndescennt\n",
    "    knn_mst = u.get_mst(u.to_adj_m(approx_knn))\n",
    "    \n",
    "    #calculate the MSF of the complete graph using the knn of the nndescennt\n",
    "    knn_fmst = u.f_boruvka(approx_knn, k)\n",
    "    \n",
    "    #calculate the MSF of the kkn of the nndescennt + residual\n",
    "    knnR_mst = u.get_mst(u.to_adj_m(approx_knn_residual))\n",
    "    \n",
    "    #calculate the MSF of the complete graph using the knn of the nndescennt + residual\n",
    "    knnR_fmst = u.f_boruvka(approx_knn_residual, k)\n",
    "    \n",
    "    #find true knn and real complete MST\n",
    "    #trueknn = u.get_knn(sorted_distance_matrix, k)   \n",
    "    real_mst = u.get_mst(u.to_adj_m(sorted_distance_matrix))\n",
    "    \n",
    "    #extract edges \n",
    "    knn_mst_edges = set(u.get_edges(knn_mst.toarray()))\n",
    "    knn_fmst_edges = set(u.get_edges(knn_fmst))\n",
    "    knnR_mst_edges = set(u.get_edges(knnR_mst.toarray()))\n",
    "    knnR_fmst_edges = set(u.get_edges(knnR_fmst))   \n",
    "    real_mst_edges = set(u.get_edges(real_mst.toarray()))\n",
    "    \n",
    "    if plot:\n",
    "        ax = plt.subplot(2,3,1)\n",
    "        ax.set_aspect('equal')\n",
    "        u.plot_edges(dataset, knn_mst.toarray())\n",
    "        u.plot_dataset(dataset)\n",
    "        plt.title(f\"KNN K={k} MST\")\n",
    "        \n",
    "        ax = plt.subplot(2,3,2)\n",
    "        ax.set_aspect('equal')\n",
    "        u.plot_edges(dataset, knn_fmst)\n",
    "        u.plot_dataset(dataset)\n",
    "        plt.title(f\"KNN K={k} MST-Frozen\")\n",
    "\n",
    "        ax = plt.subplot(2,3,3)\n",
    "        ax.set_aspect('equal')\n",
    "        u.plot_edges(dataset, knnR_mst.toarray())\n",
    "        u.plot_dataset(dataset)\n",
    "        plt.title(f\"KNN + Residual K={k} MST\")\n",
    "        \n",
    "        ax = plt.subplot(2,3,4)\n",
    "        ax.set_aspect('equal')\n",
    "        u.plot_edges(dataset, knnR_fmst)\n",
    "        u.plot_dataset(dataset)\n",
    "        plt.title(f\"KNN + Residual K={k} MST-Frozen\")\n",
    "        \n",
    "        ax = plt.subplot(2,3,5)\n",
    "        ax.set_aspect('equal')\n",
    "        u.plot_edges(dataset, real_mst.toarray())\n",
    "        u.plot_dataset(dataset)\n",
    "        plt.title(f\"MST\")\n",
    "    \n",
    "    return (knn_mst_edges, knn_fmst_edges, knnR_mst_edges, knnR_fmst_edges, real_mst_edges)"
   ]
  },
  {
   "cell_type": "code",
   "execution_count": 5,
   "id": "f9f94343",
   "metadata": {},
   "outputs": [
    {
     "ename": "AttributeError",
     "evalue": "module 'utils' has no attribute 'f_boruvka'",
     "output_type": "error",
     "traceback": [
      "\u001b[0;31m---------------------------------------------------------------------------\u001b[0m",
      "\u001b[0;31mAttributeError\u001b[0m                            Traceback (most recent call last)",
      "\u001b[0;32m/tmp/ipykernel_12351/1714485685.py\u001b[0m in \u001b[0;36m<module>\u001b[0;34m\u001b[0m\n\u001b[1;32m      1\u001b[0m \u001b[0;31m#plotting knn\u001b[0m\u001b[0;34m\u001b[0m\u001b[0;34m\u001b[0m\u001b[0;34m\u001b[0m\u001b[0m\n\u001b[1;32m      2\u001b[0m \u001b[0mplt\u001b[0m\u001b[0;34m.\u001b[0m\u001b[0mfigure\u001b[0m\u001b[0;34m(\u001b[0m\u001b[0mfigsize\u001b[0m\u001b[0;34m=\u001b[0m\u001b[0;34m(\u001b[0m\u001b[0;36m16\u001b[0m\u001b[0;34m,\u001b[0m\u001b[0;36m12\u001b[0m\u001b[0;34m)\u001b[0m\u001b[0;34m)\u001b[0m\u001b[0;34m\u001b[0m\u001b[0;34m\u001b[0m\u001b[0m\n\u001b[0;32m----> 3\u001b[0;31m \u001b[0mknn_edges\u001b[0m\u001b[0;34m,\u001b[0m \u001b[0mknnf_edges\u001b[0m\u001b[0;34m,\u001b[0m \u001b[0mknnR_edges\u001b[0m\u001b[0;34m,\u001b[0m \u001b[0mknnRf_edges\u001b[0m\u001b[0;34m,\u001b[0m \u001b[0mreal_edges\u001b[0m \u001b[0;34m=\u001b[0m \u001b[0mmst_analysis\u001b[0m\u001b[0;34m(\u001b[0m\u001b[0mdataset\u001b[0m\u001b[0;34m,\u001b[0m \u001b[0mknndescent\u001b[0m\u001b[0;34m,\u001b[0m \u001b[0mknnRdescent\u001b[0m\u001b[0;34m,\u001b[0m \u001b[0msorted_dist_m\u001b[0m\u001b[0;34m,\u001b[0m \u001b[0mk\u001b[0m\u001b[0;34m,\u001b[0m \u001b[0mplot\u001b[0m\u001b[0;34m=\u001b[0m\u001b[0;32mTrue\u001b[0m\u001b[0;34m)\u001b[0m\u001b[0;34m\u001b[0m\u001b[0;34m\u001b[0m\u001b[0m\n\u001b[0m\u001b[1;32m      4\u001b[0m \u001b[0mplt\u001b[0m\u001b[0;34m.\u001b[0m\u001b[0mshow\u001b[0m\u001b[0;34m(\u001b[0m\u001b[0;34m)\u001b[0m\u001b[0;34m\u001b[0m\u001b[0;34m\u001b[0m\u001b[0m\n",
      "\u001b[0;32m/tmp/ipykernel_12351/3594988886.py\u001b[0m in \u001b[0;36mmst_analysis\u001b[0;34m(dataset, approx_knn, approx_knn_residual, sorted_distance_matrix, k, plot)\u001b[0m\n\u001b[1;32m      7\u001b[0m \u001b[0;34m\u001b[0m\u001b[0m\n\u001b[1;32m      8\u001b[0m     \u001b[0;31m#calculate the MSF of the complete graph using the knn of the nndescennt\u001b[0m\u001b[0;34m\u001b[0m\u001b[0;34m\u001b[0m\u001b[0;34m\u001b[0m\u001b[0m\n\u001b[0;32m----> 9\u001b[0;31m     \u001b[0mknn_fmst\u001b[0m \u001b[0;34m=\u001b[0m \u001b[0mu\u001b[0m\u001b[0;34m.\u001b[0m\u001b[0mf_boruvka\u001b[0m\u001b[0;34m(\u001b[0m\u001b[0mapprox_knn\u001b[0m\u001b[0;34m,\u001b[0m \u001b[0mk\u001b[0m\u001b[0;34m)\u001b[0m\u001b[0;34m\u001b[0m\u001b[0;34m\u001b[0m\u001b[0m\n\u001b[0m\u001b[1;32m     10\u001b[0m \u001b[0;34m\u001b[0m\u001b[0m\n\u001b[1;32m     11\u001b[0m     \u001b[0;31m#calculate the MSF of the kkn of the nndescennt + residual\u001b[0m\u001b[0;34m\u001b[0m\u001b[0;34m\u001b[0m\u001b[0;34m\u001b[0m\u001b[0m\n",
      "\u001b[0;31mAttributeError\u001b[0m: module 'utils' has no attribute 'f_boruvka'"
     ]
    },
    {
     "data": {
      "text/plain": [
       "<Figure size 1152x864 with 0 Axes>"
      ]
     },
     "metadata": {},
     "output_type": "display_data"
    }
   ],
   "source": [
    "#plotting knn\n",
    "plt.figure(figsize=(16,12))\n",
    "knn_edges, knnf_edges, knnR_edges, knnRf_edges, real_edges = mst_analysis(dataset, knndescent, knnRdescent, sorted_dist_m, k, plot=True)\n",
    "plt.show()"
   ]
  },
  {
   "cell_type": "code",
   "execution_count": null,
   "id": "3a3ca35e",
   "metadata": {},
   "outputs": [],
   "source": [
    "#printing MST analysis\n",
    "print(f\"k = {k}\")\n",
    "print(f\"Number of KNN MSF edges that are not in the MST = {len(knn_edges - real_edges)}/{len(knn_edges)}\")\n",
    "print(f\"Number of KNN Frozen MSF edges that are not in the MST = {len(knnf_edges - real_edges)}/{len(knnf_edges)}\")\n",
    "print(f\"Number of KNN+Residual MSF edges that are not in the MST = {len(knnR_edges - real_edges)}/{len(knnR_edges)}\")\n",
    "print(f\"Number of KNN+Residual Frozen MSF edges that are not in the MST = {len(knnRf_edges - real_edges)}/{len(knnRf_edges)}\")\n",
    "print(f\"MST no edges: {len(real_edges)}\")\n",
    "print(\"---------------------------------------------------\\n\")"
   ]
  },
  {
   "cell_type": "markdown",
   "id": "22251bf6",
   "metadata": {},
   "source": [
    "# MST over densities estimations\n"
   ]
  },
  {
   "cell_type": "code",
   "execution_count": null,
   "id": "056a2cd1",
   "metadata": {},
   "outputs": [],
   "source": [
    "#function that calculates mutual reachability distances\n",
    "def calculate_mrd(sorted_distance_matrix, mpts):\n",
    "\n",
    "    #calculating core distances\n",
    "    core_dist = [sorted_distance_matrix[i][mpts-1][0] for i in range(len(sorted_distance_matrix))]\n",
    "    \n",
    "    #calculating mrd wrt mpts    \n",
    "    for i in range(len(sorted_distance_matrix)):\n",
    "        for j in range(len(sorted_distance_matrix[i])):\n",
    "            sorted_distance_matrix[i][j] = (max(sorted_distance_matrix[i][j][0],core_dist[i], core_dist[j]),sorted_distance_matrix[i][j][1])\n",
    "        sorted_distance_matrix[i].sort()\n",
    "\n",
    "    return (sorted_distance_matrix, core_dist)"
   ]
  },
  {
   "cell_type": "code",
   "execution_count": null,
   "id": "8ed7b6e9",
   "metadata": {},
   "outputs": [],
   "source": [
    "#calculate mrd and core true distances\n",
    "mpts = k\n",
    "mrd_dist , core_dist = calculate_mrd(sorted_dist_m, mpts)\n",
    "\n",
    "#calculate approximatted mrd and core distances\n",
    "approx_mrd_dist , approx_core_dist = calculate_mrd(knnRdescent, mpts)\n",
    "\n",
    "#extracting approximatted  knn\n",
    "approximatedknn = u.get_knn(approx_mrd_dist, k) \n",
    "\n",
    "#extracting knn\n",
    "trueknn = u.get_knn(mrd_dist, k) \n"
   ]
  },
  {
   "cell_type": "code",
   "execution_count": null,
   "id": "ca51fe3a",
   "metadata": {},
   "outputs": [],
   "source": [
    "plt.figure(figsize=(16,12))\n",
    "knn_edges, knnf_edges, knnR_edges, knnRf_edges, real_edges = mst_analysis(dataset, approximatedknn, approx_mrd_dist, mrd_dist, k, plot=True)\n",
    "plt.show()"
   ]
  },
  {
   "cell_type": "code",
   "execution_count": null,
   "id": "9dbdd80e",
   "metadata": {},
   "outputs": [],
   "source": [
    "#printing MST analysis\n",
    "print(f\"k = {k}\")\n",
    "print(f\"Number of KNN MSF edges that are not in the MST = {len(knn_edges - real_edges)}/{len(knn_edges)}\")\n",
    "print(f\"Number of KNN Frozen MSF edges that are not in the MST = {len(knnf_edges - real_edges)}/{len(knnf_edges)}\")\n",
    "print(f\"Number of KNN+Residual MSF edges that are not in the MST = {len(knnR_edges - real_edges)}/{len(knnR_edges)}\")\n",
    "print(f\"Number of KNN+Residual Frozen MSF edges that are not in the MST = {len(knnRf_edges - real_edges)}/{len(knnRf_edges)}\")\n",
    "print(f\"MST no edges: {len(real_edges)}\")\n",
    "print(\"---------------------------------------------------\\n\")\n"
   ]
  },
  {
   "cell_type": "markdown",
   "id": "0e115213",
   "metadata": {},
   "source": [
    "## Setup and Install"
   ]
  },
  {
   "cell_type": "code",
   "execution_count": null,
   "id": "df6027ea",
   "metadata": {},
   "outputs": [],
   "source": [
    "# Install a pip package in the current Jupyter kernel\n",
    "#import sys\n",
    "#!{sys.executable} -m pip install -e ~/notebook/pynndescent-master/\n",
    "#!{sys.executable} -m pip install pynndescent\n",
    "#!{sys.executable} -m pip uninstall -y pynndescent\n"
   ]
  }
 ],
 "metadata": {
  "kernelspec": {
   "display_name": "Python 3 (ipykernel)",
   "language": "python",
   "name": "python3"
  },
  "language_info": {
   "codemirror_mode": {
    "name": "ipython",
    "version": 3
   },
   "file_extension": ".py",
   "mimetype": "text/x-python",
   "name": "python",
   "nbconvert_exporter": "python",
   "pygments_lexer": "ipython3",
   "version": "3.8.10"
  }
 },
 "nbformat": 4,
 "nbformat_minor": 5
}
